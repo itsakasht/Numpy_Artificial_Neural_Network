{
 "cells": [
  {
   "cell_type": "markdown",
   "metadata": {},
   "source": [
    "# Neural network for MNIST fashion dataset\n",
    "Uses only basic libraries\n",
    "- Numpy for linear algebra\n",
    "- Pandas for storing results\n",
    "- Matplotlib to plot images"
   ]
  },
  {
   "cell_type": "code",
   "execution_count": 1,
   "metadata": {},
   "outputs": [],
   "source": [
    "import numpy as np\n",
    "import pandas as pd\n",
    "import matplotlib.pyplot as plt\n",
    "from keras.datasets import mnist\n",
    "import importlib\n",
    "import layers as ly\n",
    "import wandb"
   ]
  },
  {
   "cell_type": "markdown",
   "metadata": {},
   "source": [
    "### Data formating\n",
    "Need each datapoint ie. each image as a vector. Hence all data points are column vectors of 784 dimension"
   ]
  },
  {
   "cell_type": "code",
   "execution_count": 2,
   "metadata": {},
   "outputs": [
    {
     "name": "stdout",
     "output_type": "stream",
     "text": [
      "(784, 60000) (10, 60000) (784, 10000) (10, 10000)\n",
      "float64\n"
     ]
    }
   ],
   "source": [
    "(x_train, y_train), (x_test, y_test) = mnist.load_data()\n",
    "\n",
    "x_train = np.reshape(x_train, (-1, 784)).T / 255 # features x samples\n",
    "x_test = np.reshape(x_test, (-1, 784)).T / 255 # features x samples\n",
    "\n",
    "y_train = ly.one_hot_encode(y_train) # one-hot encode labels x samples\n",
    "y_test = ly.one_hot_encode(y_test) # one-hot encode labels x samples\n",
    "\n",
    "print(x_train.shape, y_train.shape, x_test.shape, y_test.shape)\n",
    "print(x_train.dtype)\n"
   ]
  },
  {
   "cell_type": "code",
   "execution_count": 3,
   "metadata": {},
   "outputs": [
    {
     "name": "stdout",
     "output_type": "stream",
     "text": [
      "(28, 28, 60000)\n"
     ]
    },
    {
     "data": {
      "image/png": "[encoded data removed]",
      "text/plain": [
       "<Figure size 1500x600 with 6 Axes>"
      ]
     },
     "metadata": {},
     "output_type": "display_data"
    }
   ],
   "source": [
    "fig, ax = plt.subplots(1, 6, figsize=(15, 6))\n",
    "plt.set_cmap('gray')\n",
    "print(np.reshape(x_train, (28, 28, -1)).shape)\n",
    "for i in range(6):\n",
    "    ax[i].imshow(np.reshape(x_train, (28, 28, -1))[:, :, i])\n",
    "    ax[i].axis('off')"
   ]
  },
  {
   "cell_type": "code",
   "execution_count": 7,
   "metadata": {},
   "outputs": [
    {
     "name": "stdout",
     "output_type": "stream",
     "text": [
      "Epoch 0, Loss: 0.5654, Accuracy: 0.8290\n",
      "Epoch 1, Loss: 0.2322, Accuracy: 0.9310\n",
      "Epoch 2, Loss: 0.1775, Accuracy: 0.9478\n",
      "Epoch 3, Loss: 0.1499, Accuracy: 0.9560\n",
      "Epoch 4, Loss: 0.1297, Accuracy: 0.9616\n",
      "Epoch 5, Loss: 0.1167, Accuracy: 0.9655\n",
      "Epoch 6, Loss: 0.1056, Accuracy: 0.9685\n",
      "Epoch 7, Loss: 0.0970, Accuracy: 0.9707\n",
      "Epoch 8, Loss: 0.0897, Accuracy: 0.9726\n",
      "Epoch 9, Loss: 0.0830, Accuracy: 0.9749\n",
      "Epoch 10, Loss: 0.0790, Accuracy: 0.9758\n",
      "Epoch 11, Loss: 0.0728, Accuracy: 0.9772\n",
      "Epoch 12, Loss: 0.0688, Accuracy: 0.9789\n",
      "Epoch 13, Loss: 0.0645, Accuracy: 0.9796\n",
      "Epoch 14, Loss: 0.0621, Accuracy: 0.9803\n",
      "Epoch 15, Loss: 0.0582, Accuracy: 0.9819\n",
      "Epoch 16, Loss: 0.0553, Accuracy: 0.9829\n",
      "Epoch 17, Loss: 0.0520, Accuracy: 0.9839\n",
      "Epoch 18, Loss: 0.0493, Accuracy: 0.9848\n",
      "Epoch 19, Loss: 0.0473, Accuracy: 0.9855\n",
      "Epoch 20, Loss: 0.0450, Accuracy: 0.9860\n",
      "Epoch 21, Loss: 0.0426, Accuracy: 0.9866\n",
      "Epoch 22, Loss: 0.0416, Accuracy: 0.9867\n",
      "Epoch 23, Loss: 0.0383, Accuracy: 0.9883\n",
      "Epoch 24, Loss: 0.0379, Accuracy: 0.9881\n",
      "Epoch 25, Loss: 0.0349, Accuracy: 0.9892\n",
      "Epoch 26, Loss: 0.0349, Accuracy: 0.9890\n",
      "Epoch 27, Loss: 0.0329, Accuracy: 0.9893\n",
      "Epoch 28, Loss: 0.0318, Accuracy: 0.9902\n",
      "Epoch 29, Loss: 0.0293, Accuracy: 0.9908\n"
     ]
    }
   ],
   "source": [
    "importlib.reload(ly)\n",
    "\n",
    "network = [ly.LayerDense(784, 32),\n",
    "           ly.ActivationReLU(),\n",
    "           ly.LayerDense(32, 32),\n",
    "           ly.ActivationReLU(),\n",
    "           ly.LayerDense(32, 10),\n",
    "           ly.ActivationSoftmaxLossCrossEntropy()\n",
    "]\n",
    "\n",
    "epochs = 30\n",
    "learning_rate = 0.01\n",
    "batch_size = 64\n",
    "total_samples = x_train.shape[1]\n",
    "\n",
    "optimizer = ly.NestrovGradientDescent(learning_rate, momentum=0.9)\n",
    "\n",
    "for epoch in range(epochs):\n",
    "    indices = np.random.permutation(total_samples)\n",
    "    x_shuffled = x_train[:, indices]\n",
    "    y_shuffled = y_train[:, indices]\n",
    "\n",
    "    epoch_loss = 0\n",
    "    correct = 0\n",
    "\n",
    "    for start in range(0, total_samples, batch_size):\n",
    "        end = start + batch_size\n",
    "        x_batch = x_shuffled[:, start:end]\n",
    "        y_batch = y_shuffled[:, start:end]\n",
    "\n",
    "        # Forward pass\n",
    "        inputs = x_batch\n",
    "        for layer in network:\n",
    "            inputs = layer.forward(inputs)\n",
    "        predictions = inputs\n",
    "\n",
    "        # Loss\n",
    "        loss = network[-1].loss(y_batch)\n",
    "        epoch_loss += loss * x_batch.shape[1]  # Weighted sum\n",
    "\n",
    "        # Accuracy\n",
    "        y_pred = np.argmax(predictions, axis=0)\n",
    "        y_label = np.argmax(y_batch, axis=0)\n",
    "        correct += np.sum(y_pred == y_label)\n",
    "\n",
    "        # Backward pass\n",
    "        d_loss = network[-1].backward(y_batch)\n",
    "        for layer in reversed(network[:-1]):\n",
    "            d_loss = layer.backward(d_loss)\n",
    "\n",
    "        # Update weights\n",
    "        for layer in network:\n",
    "            if isinstance(layer, ly.LayerDense):\n",
    "                dw, db = layer.gradient()\n",
    "                optimizer.update(layer)\n",
    "\n",
    "    avg_loss = epoch_loss / total_samples\n",
    "    accuracy = correct / total_samples\n",
    "    print(f'Epoch {epoch}, Loss: {avg_loss:.4f}, Accuracy: {accuracy:.4f}')\n"
   ]
  },
  {
   "cell_type": "code",
   "execution_count": 17,
   "metadata": {},
   "outputs": [
    {
     "name": "stdout",
     "output_type": "stream",
     "text": [
      "Epoch 0, Loss: 0.6196, Accuracy: 0.8058\n",
      "Epoch 5, Loss: 0.1315, Accuracy: 0.9640\n",
      "Epoch 10, Loss: 0.0912, Accuracy: 0.9742\n",
      "Epoch 15, Loss: 0.0745, Accuracy: 0.9789\n",
      "Epoch 20, Loss: 0.0642, Accuracy: 0.9819\n",
      "Epoch 25, Loss: 0.0558, Accuracy: 0.9835\n",
      "Epoch 30, Loss: 0.0506, Accuracy: 0.9851\n",
      "Epoch 35, Loss: 0.0467, Accuracy: 0.9865\n",
      "Epoch 40, Loss: 0.0452, Accuracy: 0.9866\n",
      "Epoch 45, Loss: 0.0390, Accuracy: 0.9884\n",
      "Epoch 50, Loss: 0.0366, Accuracy: 0.9892\n",
      "Epoch 55, Loss: 0.0331, Accuracy: 0.9899\n",
      "Epoch 60, Loss: 0.0334, Accuracy: 0.9903\n",
      "Epoch 65, Loss: 0.0294, Accuracy: 0.9913\n",
      "Epoch 70, Loss: 0.0308, Accuracy: 0.9909\n",
      "Epoch 75, Loss: 0.0283, Accuracy: 0.9916\n",
      "Epoch 80, Loss: 0.0300, Accuracy: 0.9904\n",
      "Epoch 85, Loss: 0.0294, Accuracy: 0.9913\n",
      "Epoch 90, Loss: 0.0262, Accuracy: 0.9924\n",
      "Epoch 95, Loss: 0.0271, Accuracy: 0.9922\n"
     ]
    }
   ],
   "source": [
    "importlib.reload(ly) \n",
    "\n",
    "network = [\n",
    "    ly.LayerDense(784, 128),\n",
    "    ly.ActivationReLU(),\n",
    "    ly.Dropout(rate=0.2),          # Dropout after first hidden layer\n",
    "    ly.LayerDense(128, 64),\n",
    "    ly.ActivationReLU(),\n",
    "    ly.Dropout(rate=0.4),          # Dropout after second hidden layer\n",
    "    ly.LayerDense(64, 32),\n",
    "    ly.ActivationReLU(),\n",
    "    ly.Dropout(rate=0.2),          # Dropout after third hidden layer\n",
    "    ly.LayerDense(32, 10),\n",
    "    ly.ActivationSoftmaxLossCrossEntropy()\n",
    "]\n",
    "\n",
    "epochs = 100\n",
    "learning_rate = 0.01\n",
    "batch_size = 128\n",
    "total_samples = x_train.shape[1]\n",
    "\n",
    "optimizer = ly.AdamOptimizer(learning_rate=0.001)\n",
    "\n",
    "for epoch in range(epochs):\n",
    "    indices = np.random.permutation(total_samples)\n",
    "    x_shuffled = x_train[:, indices]\n",
    "    y_shuffled = y_train[:, indices]\n",
    "\n",
    "    epoch_loss = 0\n",
    "    correct = 0\n",
    "\n",
    "    for start in range(0, total_samples, batch_size):\n",
    "        end = start + batch_size\n",
    "        x_batch = x_shuffled[:, start:end]\n",
    "        y_batch = y_shuffled[:, start:end]\n",
    "\n",
    "        # Forward pass\n",
    "        inputs = x_batch\n",
    "        for layer in network:\n",
    "            # Dropout is only active during training\n",
    "            if isinstance(layer, ly.Dropout):\n",
    "                inputs = layer.forward(inputs, training=True)\n",
    "            else:\n",
    "                inputs = layer.forward(inputs)\n",
    "        predictions = inputs\n",
    "\n",
    "        # Loss\n",
    "        loss = network[-1].loss(y_batch)\n",
    "        epoch_loss += loss * x_batch.shape[1]  # Weighted sum\n",
    "\n",
    "        # Accuracy\n",
    "        y_pred = np.argmax(predictions, axis=0)\n",
    "        y_label = np.argmax(y_batch, axis=0)\n",
    "        correct += np.sum(y_pred == y_label)\n",
    "\n",
    "        # Backward pass\n",
    "        d_loss = network[-1].backward(y_batch)\n",
    "        for layer in reversed(network[:-1]):\n",
    "            d_loss = layer.backward(d_loss)\n",
    "\n",
    "        # Update weights\n",
    "        for layer in network:\n",
    "            if isinstance(layer, ly.LayerDense):\n",
    "                dw, db = layer.gradient()\n",
    "                optimizer.update(layer)\n",
    "\n",
    "    avg_loss = epoch_loss / total_samples\n",
    "    accuracy = correct / total_samples\n",
    "    if epoch%5 == 0:\n",
    "        print(f'Epoch {epoch}, Loss: {avg_loss:.4f}, Accuracy: {accuracy:.4f}')\n"
   ]
  },
  {
   "cell_type": "code",
   "execution_count": 32,
   "metadata": {},
   "outputs": [
    {
     "name": "stdout",
     "output_type": "stream",
     "text": [
      "Test Accuracy: 97.16%\n"
     ]
    }
   ],
   "source": [
    "# test\n",
    "inputs = x_test\n",
    "for layer in network:\n",
    "    inputs = layer.forward(inputs)\n",
    "predictions = inputs\n",
    "y_pred = np.argmax(predictions, axis=0)\n",
    "y_label = np.argmax(y_test, axis=0)\n",
    "correct = np.sum(y_pred == y_label)\n",
    "accuracy = correct / y_test.shape[1]\n",
    "print(f'Test Accuracy: {100*accuracy:.2f}%')\n"
   ]
  }
 ],
 "metadata": {
  "kernelspec": {
   "display_name": "gen_env",
   "language": "python",
   "name": "python3"
  },
  "language_info": {
   "codemirror_mode": {
    "name": "ipython",
    "version": 3
   },
   "file_extension": ".py",
   "mimetype": "text/x-python",
   "name": "python",
   "nbconvert_exporter": "python",
   "pygments_lexer": "ipython3",
   "version": "3.10.13"
  }
 },
 "nbformat": 4,
 "nbformat_minor": 2
}
