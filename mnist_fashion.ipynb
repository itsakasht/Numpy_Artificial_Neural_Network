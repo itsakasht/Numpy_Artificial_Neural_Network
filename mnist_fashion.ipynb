{
 "cells": [
  {
   "cell_type": "markdown",
   "metadata": {},
   "source": [
    "# Neural network for MNIST fashion dataset\n",
    "Uses only basic libraries\n",
    "- Numpy for linear algebra\n",
    "- Pandas for storing results\n",
    "- Matplotlib to plot images"
   ]
  },
  {
   "cell_type": "code",
   "execution_count": 1,
   "metadata": {},
   "outputs": [],
   "source": [
    "import numpy as np\n",
    "import pandas as pd\n",
    "import matplotlib.pyplot as plt\n",
    "from keras.datasets import fashion_mnist\n",
    "import importlib\n",
    "# from layers import LayerDense, ActivationReLU, ActivationTanh, ActivationSoftmax, CrossEntropyLoss, GradientDescent, one_hot_encode\n",
    "import layers as ly\n"
   ]
  },
  {
   "cell_type": "markdown",
   "metadata": {},
   "source": [
    "### Data formating\n",
    "Need each datapoint ie. each image as a vector. Hence all data points are column vectors of 784 dimension"
   ]
  },
  {
   "cell_type": "code",
   "execution_count": 2,
   "metadata": {},
   "outputs": [
    {
     "name": "stdout",
     "output_type": "stream",
     "text": [
      "(784, 60000) (10, 60000) (784, 10000) (10, 10000)\n",
      "float64\n"
     ]
    }
   ],
   "source": [
    "(x_train, y_train), (x_test, y_test) = fashion_mnist.load_data()\n",
    "\n",
    "x_train = np.reshape(x_train, (-1, 784)).T / 255 # features x samples\n",
    "x_test = np.reshape(x_test, (-1, 784)).T / 255 # features x samples\n",
    "\n",
    "y_train = ly.one_hot_encode(y_train) # one-hot encode labels x samples\n",
    "y_test = ly.one_hot_encode(y_test) # one-hot encode labels x samples\n",
    "\n",
    "print(x_train.shape, y_train.shape, x_test.shape, y_test.shape)\n",
    "print(x_train.dtype)\n"
   ]
  },
  {
   "cell_type": "code",
   "execution_count": 3,
   "metadata": {},
   "outputs": [
    {
     "name": "stdout",
     "output_type": "stream",
     "text": [
      "(28, 28, 60000)\n"
     ]
    },
    {
     "data": {
      "image/png": "[encoded data removed]",
      "text/plain": [
       "<Figure size 1500x600 with 6 Axes>"
      ]
     },
     "metadata": {},
     "output_type": "display_data"
    }
   ],
   "source": [
    "fig, ax = plt.subplots(1, 6, figsize=(15, 6))\n",
    "plt.set_cmap('gray')\n",
    "print(np.reshape(x_train, (28, 28, -1)).shape)\n",
    "for i in range(6):\n",
    "    ax[i].imshow(np.reshape(x_train, (28, 28, -1))[:, :, i])\n",
    "    ax[i].axis('off')"
   ]
  },
  {
   "cell_type": "markdown",
   "metadata": {},
   "source": []
  },
  {
   "cell_type": "code",
   "execution_count": 10,
   "metadata": {},
   "outputs": [
    {
     "name": "stdout",
     "output_type": "stream",
     "text": [
      "Epoch 0, Loss: 0.7928, Accuracy: 0.7156\n",
      "Epoch 5, Loss: 0.3837, Accuracy: 0.8670\n",
      "Epoch 10, Loss: 0.3392, Accuracy: 0.8810\n",
      "Epoch 15, Loss: 0.3086, Accuracy: 0.8909\n",
      "Epoch 20, Loss: 0.2944, Accuracy: 0.8953\n",
      "Epoch 25, Loss: 0.2794, Accuracy: 0.8990\n",
      "Epoch 30, Loss: 0.2640, Accuracy: 0.9067\n",
      "Epoch 35, Loss: 0.2586, Accuracy: 0.9085\n",
      "Epoch 40, Loss: 0.2516, Accuracy: 0.9100\n",
      "Epoch 45, Loss: 0.2410, Accuracy: 0.9128\n",
      "Epoch 50, Loss: 0.2373, Accuracy: 0.9146\n",
      "Epoch 55, Loss: 0.2344, Accuracy: 0.9150\n",
      "Epoch 60, Loss: 0.2260, Accuracy: 0.9201\n",
      "Epoch 65, Loss: 0.2248, Accuracy: 0.9182\n",
      "Epoch 70, Loss: 0.2162, Accuracy: 0.9224\n",
      "Epoch 75, Loss: 0.2156, Accuracy: 0.9226\n",
      "Epoch 80, Loss: 0.2129, Accuracy: 0.9245\n",
      "Epoch 85, Loss: 0.2088, Accuracy: 0.9259\n",
      "Epoch 90, Loss: 0.2031, Accuracy: 0.9265\n",
      "Epoch 95, Loss: 0.2020, Accuracy: 0.9282\n"
     ]
    }
   ],
   "source": [
    "importlib.reload(ly) \n",
    "\n",
    "network = [\n",
    "    ly.LayerDense(784, 128),\n",
    "    ly.ActivationReLU(),\n",
    "    ly.Dropout(rate=0.2),          # Dropout after first hidden layer\n",
    "    ly.LayerDense(128, 64),\n",
    "    ly.ActivationReLU(),\n",
    "    ly.Dropout(rate=0.4),          # Dropout after second hidden layer\n",
    "    ly.LayerDense(64, 32),\n",
    "    ly.ActivationReLU(),\n",
    "    ly.Dropout(rate=0.2),          # Dropout after third hidden layer\n",
    "    ly.LayerDense(32, 10),\n",
    "    ly.ActivationSoftmaxLossCrossEntropy()\n",
    "]\n",
    "\n",
    "epochs = 100\n",
    "learning_rate = 0.01\n",
    "batch_size = 128\n",
    "total_samples = x_train.shape[1]\n",
    "\n",
    "optimizer = ly.AdamOptimizer(learning_rate=0.001)\n",
    "\n",
    "for epoch in range(epochs):\n",
    "    indices = np.random.permutation(total_samples)\n",
    "    x_shuffled = x_train[:, indices]\n",
    "    y_shuffled = y_train[:, indices]\n",
    "\n",
    "    epoch_loss = 0\n",
    "    correct = 0\n",
    "\n",
    "    for start in range(0, total_samples, batch_size):\n",
    "        end = start + batch_size\n",
    "        x_batch = x_shuffled[:, start:end]\n",
    "        y_batch = y_shuffled[:, start:end]\n",
    "\n",
    "        # Forward pass\n",
    "        inputs = x_batch\n",
    "        for layer in network:\n",
    "            # Dropout is only active during training\n",
    "            if isinstance(layer, ly.Dropout):\n",
    "                inputs = layer.forward(inputs, training=True)\n",
    "            else:\n",
    "                inputs = layer.forward(inputs)\n",
    "        predictions = inputs\n",
    "\n",
    "        # Loss\n",
    "        loss = network[-1].loss(y_batch)\n",
    "        epoch_loss += loss * x_batch.shape[1]  # Weighted sum\n",
    "\n",
    "        # Accuracy\n",
    "        y_pred = np.argmax(predictions, axis=0)\n",
    "        y_label = np.argmax(y_batch, axis=0)\n",
    "        correct += np.sum(y_pred == y_label)\n",
    "\n",
    "        # Backward pass\n",
    "        d_loss = network[-1].backward(y_batch)\n",
    "        for layer in reversed(network[:-1]):\n",
    "            d_loss = layer.backward(d_loss)\n",
    "\n",
    "        # Update weights\n",
    "        for layer in network:\n",
    "            if isinstance(layer, ly.LayerDense):\n",
    "                dw, db = layer.gradient()\n",
    "                optimizer.update(layer)\n",
    "\n",
    "    avg_loss = epoch_loss / total_samples\n",
    "    accuracy = correct / total_samples\n",
    "    if epoch%5 == 0:\n",
    "        print(f'Epoch {epoch}, Loss: {avg_loss:.4f}, Accuracy: {accuracy:.4f}')\n"
   ]
  },
  {
   "cell_type": "code",
   "execution_count": 20,
   "metadata": {},
   "outputs": [
    {
     "name": "stdout",
     "output_type": "stream",
     "text": [
      "Test Accuracy: 0.8757\n"
     ]
    }
   ],
   "source": [
    "# test\n",
    "inputs = x_test\n",
    "for layer in network:\n",
    "    inputs = layer.forward(inputs)\n",
    "predictions = inputs\n",
    "y_pred = np.argmax(predictions, axis=0)\n",
    "y_label = np.argmax(y_test, axis=0)\n",
    "correct = np.sum(y_pred == y_label)\n",
    "accuracy = correct / y_test.shape[1]\n",
    "print(f'Test Accuracy: {accuracy:.4f}')\n"
   ]
  }
 ],
 "metadata": {
  "kernelspec": {
   "display_name": "gen_env",
   "language": "python",
   "name": "python3"
  },
  "language_info": {
   "codemirror_mode": {
    "name": "ipython",
    "version": 3
   },
   "file_extension": ".py",
   "mimetype": "text/x-python",
   "name": "python",
   "nbconvert_exporter": "python",
   "pygments_lexer": "ipython3",
   "version": "3.10.13"
  }
 },
 "nbformat": 4,
 "nbformat_minor": 2
}
